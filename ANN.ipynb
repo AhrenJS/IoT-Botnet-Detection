{
 "cells": [
  {
   "cell_type": "code",
   "execution_count": 13,
   "metadata": {},
   "outputs": [],
   "source": [
    "#Import libraries and load data with corresponding labels\n",
    "\n",
    "import pandas as pd\n",
    "import numpy as np\n",
    "import os\n",
    "from sklearn.model_selection import train_test_split\n",
    "from sklearn.preprocessing import StandardScaler\n",
    "from keras.models import Sequential\n",
    "from keras.layers import Dense\n",
    "from keras.optimizers import Adam\n",
    "\n",
    "def load_data(csv_folder, label_folder):\n",
    "    data = []\n",
    "    labels = []\n",
    "    \n",
    "    for csv_file in os.listdir(csv_folder):\n",
    "        if csv_file.endswith('.csv'):\n",
    "            csv_path = os.path.join(csv_folder, csv_file)\n",
    "            df = pd.read_csv(csv_path, encoding=\"ISO-8859-1\")\n",
    "            data.append(df)\n",
    "\n",
    "            label_file = csv_file.replace('.csv', '.log.labeled')\n",
    "            label_path = os.path.join(label_folder, label_file)\n",
    "            with open(label_path, 'r') as f:\n",
    "                label = f.read().strip()\n",
    "                labels.append(label)\n",
    "\n",
    "    return pd.concat(data), labels\n",
    "\n",
    "csv_folder = \"D:\\AI Training\\Test\\CSV\"\n",
    "label_folder = \"D:\\AI Training\\Test\\Label\"\n",
    "x, y = load_data(csv_folder, label_folder)"
   ]
  }
 ],
 "metadata": {
  "kernelspec": {
   "display_name": "Python 3",
   "language": "python",
   "name": "python3"
  },
  "language_info": {
   "codemirror_mode": {
    "name": "ipython",
    "version": 3
   },
   "file_extension": ".py",
   "mimetype": "text/x-python",
   "name": "python",
   "nbconvert_exporter": "python",
   "pygments_lexer": "ipython3",
   "version": "3.10.5"
  }
 },
 "nbformat": 4,
 "nbformat_minor": 2
}
