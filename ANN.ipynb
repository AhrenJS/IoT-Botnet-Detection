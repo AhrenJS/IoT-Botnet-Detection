{
 "cells": [
  {
   "cell_type": "code",
   "execution_count": 2,
   "metadata": {},
   "outputs": [],
   "source": [
    "#Import Libraries and Combine Datas\n",
    "\n",
    "import pandas as pd\n",
    "import numpy as np\n",
    "import matplotlib.pyplot as plt\n",
    "from sklearn.model_selection import train_test_split\n",
    "from sklearn.preprocessing import StandardScaler\n",
    "from tensorflow import keras\n",
    "from tensorflow.keras import layers\n",
    "\n",
    "import glob\n",
    "\n",
    "# Use glob to find all the csv files in the directory\n",
    "path = 'D:\\\\AI Training\\\\CSV'\n",
    "all_files = glob.glob(path + \"/*.csv\")\n",
    "\n",
    "# Load and concatenate the data\n",
    "df_list = [pd.read_csv(file, encoding='ISO-8859-1') for file in all_files]\n",
    "data = pd.concat(df_list, ignore_index=True)"
   ]
  },
  {
   "cell_type": "code",
   "execution_count": null,
   "metadata": {},
   "outputs": [
    {
     "name": "stdout",
     "output_type": "stream",
     "text": [
      "Missing values before imputation:\n",
      " Info    8\n",
      "dtype: int64\n",
      "Columns before one-hot encoding:\n",
      " Index(['No.', 'Time', 'Source', 'Destination', 'Protocol', 'Length', 'Info'], dtype='object')\n"
     ]
    }
   ],
   "source": [
    "#Data Preprocessing\n",
    "\n",
    "missing_values = data.isnull().sum()\n",
    "print(\"Missing values before imputation:\\n\", missing_values[missing_values > 0])\n",
    "\n",
    "print(\"Columns before one-hot encoding:\\n\", data.columns)\n",
    "\n",
    "data.fillna(data.mean(), inplace=True)  # Impute missing values with the mean\n",
    "data = pd.get_dummies(data)  # One-hot encoding for categorical features\n",
    "\n",
    "# scaler = StandardScaler()\n",
    "# features = data.drop('target_column', axis=1)  # Replace 'target_column' with target\n",
    "# target = data['target_column']\n",
    "\n",
    "# features_scaled = scaler.fit_transform(features)\n",
    "\n",
    "missing_values = data.isnull().sum()\n",
    "print(\"Missing values after imputation:\\n\", missing_values[missing_values > 0])\n",
    "\n",
    "print(\"Columns after one-hot encoding:\\n\", data.columns)\n",
    "\n",
    "# Mean should be close to 0 and standard deviation close to 1\n",
    "# print(\"Mean of scaled features:\\n\", np.mean(features_scaled, axis=0))\n",
    "# print(\"Standard deviation of scaled features:\\n\", np.std(features_scaled, axis=0))"
   ]
  }
 ],
 "metadata": {
  "kernelspec": {
   "display_name": "Python 3",
   "language": "python",
   "name": "python3"
  },
  "language_info": {
   "codemirror_mode": {
    "name": "ipython",
    "version": 3
   },
   "file_extension": ".py",
   "mimetype": "text/x-python",
   "name": "python",
   "nbconvert_exporter": "python",
   "pygments_lexer": "ipython3",
   "version": "3.10.5"
  }
 },
 "nbformat": 4,
 "nbformat_minor": 2
}
