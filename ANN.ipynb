{
 "cells": [
  {
   "cell_type": "code",
   "execution_count": 9,
   "metadata": {},
   "outputs": [
    {
     "name": "stdout",
     "output_type": "stream",
     "text": [
      "           timestamp                 uid         src_ip  src_port  \\\n",
      "0  1540469302.538640  CGm6jB4dXK71ZDWUDh  192.168.1.132   58687.0   \n",
      "1  1540469197.400159  CnaDAG3n5r8eiG4su2  192.168.1.132    1900.0   \n",
      "2  1540469385.734089  CUrxU238nt0m6yTgKf  192.168.1.132   32893.0   \n",
      "3  1540469831.302625  CGQf8t1kjdxB5PHXL4  192.168.1.132   53395.0   \n",
      "4  1540469831.265405  CUo9DH2QDnCaBIGjkg  192.168.1.132   52801.0   \n",
      "\n",
      "           dest_ip  dest_port protocol service    duration orig_bytes  ...  \\\n",
      "0     216.239.35.4      123.0      udp       -    0.114184         48  ...   \n",
      "1  239.255.255.250     1900.0      udp       -  160.367579       7536  ...   \n",
      "2     216.239.35.8      123.0      udp       -    0.016986         48  ...   \n",
      "3       2.16.60.82      443.0      tcp       -    0.003497          0  ...   \n",
      "4      192.168.1.1       53.0      udp     dns    0.036724         34  ...   \n",
      "\n",
      "  conn_state local_orig local_resp missed_bytes  history orig_pkts  \\\n",
      "0         SF          -          -          0.0       Dd       1.0   \n",
      "1         S0          -          -          0.0        D      24.0   \n",
      "2         SF          -          -          0.0       Dd       1.0   \n",
      "3         SF          -          -          0.0    ShAFf       5.0   \n",
      "4         SF          -          -          0.0       Dd       1.0   \n",
      "\n",
      "   orig_ip_bytes  resp_pkts  resp_ip_bytes           label  \n",
      "0           76.0        1.0           76.0  -   benign   -  \n",
      "1         8208.0        0.0            0.0  -   benign   -  \n",
      "2           76.0        1.0           76.0  -   benign   -  \n",
      "3          212.0        3.0          144.0  -   benign   -  \n",
      "4           62.0        1.0          339.0  -   benign   -  \n",
      "\n",
      "[5 rows x 21 columns]\n"
     ]
    }
   ],
   "source": [
    "import pandas as pd\n",
    "import numpy as np\n",
    "from sklearn.model_selection import train_test_split\n",
    "from sklearn.preprocessing import StandardScaler\n",
    "from tensorflow.keras.models import Sequential\n",
    "from tensorflow.keras.layers import Dense\n",
    "\n",
    "# Command to convert .log.labeled files to .csv\n",
    "# tr '\\t' ',' < \"(name).log.labeled\" | cut -d ',' -f 1-22 > \"(name).csv\"\n",
    "\n",
    "# Command to change directory\n",
    "# cd /mnt/(path name)\n",
    "\n",
    "# Replace first 7 lines of .csv file (until #types) with the header below\n",
    "# timestamp,uid,src_ip,src_port,dest_ip,dest_port,protocol,service,duration,orig_bytes,resp_bytes,conn_state,local_orig,local_resp,missed_bytes,history,orig_pkts,orig_ip_bytes,resp_pkts,resp_ip_bytes,label\n",
    "\n",
    "import os\n",
    "import pandas as pd\n",
    "\n",
    "folder_path = 'D:\\AI Training\\ML Model\\Test\\CSV'\n",
    "dataframes = []\n",
    "\n",
    "for filename in os.listdir(folder_path):\n",
    "    if filename.endswith('.csv'):\n",
    "        file_path = os.path.join(folder_path, filename)\n",
    "        df = pd.read_csv(file_path, sep=',')\n",
    "        dataframes.append(df)\n",
    "\n",
    "data = pd.concat(dataframes, ignore_index=True)\n",
    "\n",
    "print(data.head())"
   ]
  },
  {
   "cell_type": "code",
   "execution_count": 10,
   "metadata": {},
   "outputs": [
    {
     "name": "stdout",
     "output_type": "stream",
     "text": [
      "timestamp        0\n",
      "uid              0\n",
      "src_ip           3\n",
      "src_port         3\n",
      "dest_ip          3\n",
      "dest_port        3\n",
      "protocol         3\n",
      "service          3\n",
      "duration         3\n",
      "orig_bytes       3\n",
      "resp_bytes       3\n",
      "conn_state       3\n",
      "local_orig       3\n",
      "local_resp       3\n",
      "missed_bytes     3\n",
      "history          3\n",
      "orig_pkts        3\n",
      "orig_ip_bytes    3\n",
      "resp_pkts        3\n",
      "resp_ip_bytes    3\n",
      "label            3\n",
      "dtype: int64\n"
     ]
    }
   ],
   "source": [
    "print(data.isnull().sum())"
   ]
  }
 ],
 "metadata": {
  "kernelspec": {
   "display_name": "Python 3",
   "language": "python",
   "name": "python3"
  },
  "language_info": {
   "codemirror_mode": {
    "name": "ipython",
    "version": 3
   },
   "file_extension": ".py",
   "mimetype": "text/x-python",
   "name": "python",
   "nbconvert_exporter": "python",
   "pygments_lexer": "ipython3",
   "version": "3.10.5"
  }
 },
 "nbformat": 4,
 "nbformat_minor": 2
}
